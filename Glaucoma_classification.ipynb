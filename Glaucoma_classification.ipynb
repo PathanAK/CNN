{
  "nbformat": 4,
  "nbformat_minor": 0,
  "metadata": {
    "colab": {
      "name": "Glaucoma_classification.ipynb",
      "provenance": [],
      "collapsed_sections": []
    },
    "kernelspec": {
      "name": "python3",
      "display_name": "Python 3"
    },
    "accelerator": "GPU"
  },
  "cells": [
    {
      "cell_type": "code",
      "metadata": {
        "colab": {
          "base_uri": "https://localhost:8080/"
        },
        "id": "SW_26kpekWTf",
        "outputId": "e3257866-b50b-471c-bf59-3efc1448e453"
      },
      "source": [
        "!nvidia-smi\r\n"
      ],
      "execution_count": 2,
      "outputs": [
        {
          "output_type": "stream",
          "text": [
            "Tue Jan  5 06:40:03 2021       \n",
            "+-----------------------------------------------------------------------------+\n",
            "| NVIDIA-SMI 460.27.04    Driver Version: 418.67       CUDA Version: 10.1     |\n",
            "|-------------------------------+----------------------+----------------------+\n",
            "| GPU  Name        Persistence-M| Bus-Id        Disp.A | Volatile Uncorr. ECC |\n",
            "| Fan  Temp  Perf  Pwr:Usage/Cap|         Memory-Usage | GPU-Util  Compute M. |\n",
            "|                               |                      |               MIG M. |\n",
            "|===============================+======================+======================|\n",
            "|   0  Tesla T4            Off  | 00000000:00:04.0 Off |                    0 |\n",
            "| N/A   35C    P8     9W /  70W |      0MiB / 15079MiB |      0%      Default |\n",
            "|                               |                      |                 ERR! |\n",
            "+-------------------------------+----------------------+----------------------+\n",
            "                                                                               \n",
            "+-----------------------------------------------------------------------------+\n",
            "| Processes:                                                                  |\n",
            "|  GPU   GI   CI        PID   Type   Process name                  GPU Memory |\n",
            "|        ID   ID                                                   Usage      |\n",
            "|=============================================================================|\n",
            "|  No running processes found                                                 |\n",
            "+-----------------------------------------------------------------------------+\n"
          ],
          "name": "stdout"
        }
      ]
    },
    {
      "cell_type": "code",
      "metadata": {
        "id": "-SLlbImewOcn",
        "colab": {
          "base_uri": "https://localhost:8080/"
        },
        "outputId": "86228654-feaf-4c37-9327-42e22ef48333"
      },
      "source": [
        "from google.colab import drive\n",
        "drive.mount('/content/drive/')"
      ],
      "execution_count": 1,
      "outputs": [
        {
          "output_type": "stream",
          "text": [
            "Mounted at /content/drive/\n"
          ],
          "name": "stdout"
        }
      ]
    },
    {
      "cell_type": "code",
      "metadata": {
        "id": "CtMbJRw9wOg7"
      },
      "source": [
        "import numpy as np\n",
        "import os\n",
        "import matplotlib.pyplot as plt\n",
        "import keras\n",
        "import tensorflow as tf\n",
        "from tensorflow.keras.optimizers import RMSprop\n",
        "from tensorflow.keras.optimizers import Adam\n",
        "from tensorflow.keras.models import load_model\n",
        "from tensorflow.keras.preprocessing import image\n",
        "import cv2\n",
        "from glob import glob\n"
      ],
      "execution_count": 6,
      "outputs": []
    },
    {
      "cell_type": "code",
      "metadata": {
        "id": "VkimbwvEwOjR",
        "colab": {
          "base_uri": "https://localhost:8080/"
        },
        "outputId": "72028d2e-6f6b-411a-d29a-4e53ab52c4c6"
      },
      "source": [
        "path='/content/drive/My Drive/Glaucoma'\n",
        "mainDIR= os.listdir(path)\n",
        "print(mainDIR)"
      ],
      "execution_count": 3,
      "outputs": [
        {
          "output_type": "stream",
          "text": [
            "['train', 'test']\n"
          ],
          "name": "stdout"
        }
      ]
    },
    {
      "cell_type": "code",
      "metadata": {
        "id": "-styFrrWwOnZ"
      },
      "source": [
        "test_path='/content/drive/My Drive/Glaucoma/test'\n",
        "train_path='/content/drive/My Drive/Glaucoma/train'\n"
      ],
      "execution_count": 4,
      "outputs": []
    },
    {
      "cell_type": "code",
      "metadata": {
        "id": "-mvYhk-JHAs9"
      },
      "source": [
        "folders = glob('/content/drive/My Drive/Glaucoma/train/*')"
      ],
      "execution_count": 7,
      "outputs": []
    },
    {
      "cell_type": "code",
      "metadata": {
        "colab": {
          "base_uri": "https://localhost:8080/"
        },
        "id": "3anEmrvBHONX",
        "outputId": "325f246a-ec0f-4851-8226-91bbd2e82f35"
      },
      "source": [
        "folders"
      ],
      "execution_count": 8,
      "outputs": [
        {
          "output_type": "execute_result",
          "data": {
            "text/plain": [
              "['/content/drive/My Drive/Glaucoma/train/Glaucoma',\n",
              " '/content/drive/My Drive/Glaucoma/train/Non Glaucoma']"
            ]
          },
          "metadata": {
            "tags": []
          },
          "execution_count": 8
        }
      ]
    },
    {
      "cell_type": "code",
      "metadata": {
        "id": "xj3ETiAAwOqF"
      },
      "source": [
        "# Use the Image Data Generator to import the images from the dataset\n",
        "from tensorflow.keras.preprocessing.image import ImageDataGenerator\n",
        "\n",
        "train_datagen = ImageDataGenerator(rescale = 1./255,\n",
        "                                   shear_range = 0.2,\n",
        "                                   zoom_range = 0.2,\n",
        "                                   horizontal_flip = True)\n",
        "\n",
        "test_datagen = ImageDataGenerator(rescale = 1./255)\n",
        "\n"
      ],
      "execution_count": 9,
      "outputs": []
    },
    {
      "cell_type": "code",
      "metadata": {
        "colab": {
          "base_uri": "https://localhost:8080/"
        },
        "id": "eppdtOkRHYHJ",
        "outputId": "146cf42e-57cc-4b14-f300-2f84d6cbc8d7"
      },
      "source": [
        "# Make sure you provide the same target size as initialied for the image size\r\n",
        "training_set = train_datagen.flow_from_directory('/content/drive/My Drive/Glaucoma/train',\r\n",
        "                                                 target_size = (224, 224),\r\n",
        "                                                 batch_size = 32,\r\n",
        "                                                 class_mode = 'categorical')"
      ],
      "execution_count": 11,
      "outputs": [
        {
          "output_type": "stream",
          "text": [
            "Found 68 images belonging to 2 classes.\n"
          ],
          "name": "stdout"
        }
      ]
    },
    {
      "cell_type": "code",
      "metadata": {
        "colab": {
          "base_uri": "https://localhost:8080/"
        },
        "id": "zqGh2WRmHX7T",
        "outputId": "d85bdc2d-588f-451d-fe36-13d85cf046dc"
      },
      "source": [
        "test_set= test_datagen.flow_from_directory('/content/drive/My Drive/Glaucoma/test',\r\n",
        "                                            target_size = (224, 224),\r\n",
        "                                            batch_size = 32,\r\n",
        "                                            class_mode = 'categorical')"
      ],
      "execution_count": 19,
      "outputs": [
        {
          "output_type": "stream",
          "text": [
            "Found 12 images belonging to 2 classes.\n"
          ],
          "name": "stdout"
        }
      ]
    },
    {
      "cell_type": "code",
      "metadata": {
        "id": "xZQUhzDwwOuS",
        "colab": {
          "base_uri": "https://localhost:8080/"
        },
        "outputId": "2b10097a-92fa-46c1-e21f-656a9920ea7e"
      },
      "source": [
        "training_set.class_indices"
      ],
      "execution_count": 12,
      "outputs": [
        {
          "output_type": "execute_result",
          "data": {
            "text/plain": [
              "{'Glaucoma': 0, 'Non Glaucoma': 1}"
            ]
          },
          "metadata": {
            "tags": []
          },
          "execution_count": 12
        }
      ]
    },
    {
      "cell_type": "code",
      "metadata": {
        "id": "xKXum2XxwHFd",
        "colab": {
          "base_uri": "https://localhost:8080/"
        },
        "outputId": "cdae792b-7dca-4e40-fe15-c34c9019a071"
      },
      "source": [
        "model = tf.keras.Sequential([\r\n",
        "    tf.keras.layers.Conv2D(16, (3, 3), activation = 'relu',padding='same',kernel_initializer='he_uniform', input_shape = (224, 224, 3)), \r\n",
        "    tf.keras.layers.MaxPooling2D(2,2),\r\n",
        "    tf.keras.layers.Dropout(.25),\r\n",
        "    tf.keras.layers.Conv2D(16, (3, 3), activation = 'relu',padding='same',kernel_initializer='he_uniform'),\r\n",
        "    tf.keras.layers.MaxPooling2D(2,2),\r\n",
        "    tf.keras.layers.Dropout(.25),\r\n",
        "    tf.keras.layers.Conv2D(32, (3, 3), activation = 'relu',padding='same',kernel_initializer='he_uniform'),\r\n",
        "    tf.keras.layers.MaxPooling2D(2,2),\r\n",
        "    tf.keras.layers.Dropout(.25),\r\n",
        "    # tf.keras.layers.Conv2D(32, (3, 3), activation = 'relu',kernel_initializer='he_uniform'),\r\n",
        "    # tf.keras.layers.MaxPooling2D(2,2),\r\n",
        "    # tf.keras.layers.Dropout(.25),\r\n",
        "    tf.keras.layers.Conv2D(64, (3, 3), activation = 'relu',kernel_initializer='he_uniform'),\r\n",
        "    tf.keras.layers.MaxPooling2D(2,2),\r\n",
        "    tf.keras.layers.Dropout(.5),\r\n",
        "    # tf.keras.layers.Conv2D(64, (3, 3), activation = 'relu',kernel_initializer='he_uniform'),\r\n",
        "    # tf.keras.layers.MaxPooling2D(2,2),\r\n",
        "    # tf.keras.layers.Dropout(.5),\r\n",
        "    tf.keras.layers.Flatten(),\r\n",
        "    tf.keras.layers.Dense(500, activation='relu'),\r\n",
        "    tf.keras.layers.Dense(len(training_set.class_indices),activation='softmax')\r\n",
        "])\r\n",
        "model.summary()"
      ],
      "execution_count": 82,
      "outputs": [
        {
          "output_type": "stream",
          "text": [
            "Model: \"sequential_7\"\n",
            "_________________________________________________________________\n",
            "Layer (type)                 Output Shape              Param #   \n",
            "=================================================================\n",
            "conv2d_39 (Conv2D)           (None, 224, 224, 16)      448       \n",
            "_________________________________________________________________\n",
            "max_pooling2d_38 (MaxPooling (None, 112, 112, 16)      0         \n",
            "_________________________________________________________________\n",
            "dropout_35 (Dropout)         (None, 112, 112, 16)      0         \n",
            "_________________________________________________________________\n",
            "conv2d_40 (Conv2D)           (None, 112, 112, 16)      2320      \n",
            "_________________________________________________________________\n",
            "max_pooling2d_39 (MaxPooling (None, 56, 56, 16)        0         \n",
            "_________________________________________________________________\n",
            "dropout_36 (Dropout)         (None, 56, 56, 16)        0         \n",
            "_________________________________________________________________\n",
            "conv2d_41 (Conv2D)           (None, 56, 56, 32)        4640      \n",
            "_________________________________________________________________\n",
            "max_pooling2d_40 (MaxPooling (None, 28, 28, 32)        0         \n",
            "_________________________________________________________________\n",
            "dropout_37 (Dropout)         (None, 28, 28, 32)        0         \n",
            "_________________________________________________________________\n",
            "conv2d_42 (Conv2D)           (None, 26, 26, 64)        18496     \n",
            "_________________________________________________________________\n",
            "max_pooling2d_41 (MaxPooling (None, 13, 13, 64)        0         \n",
            "_________________________________________________________________\n",
            "dropout_38 (Dropout)         (None, 13, 13, 64)        0         \n",
            "_________________________________________________________________\n",
            "flatten_7 (Flatten)          (None, 10816)             0         \n",
            "_________________________________________________________________\n",
            "dense_13 (Dense)             (None, 500)               5408500   \n",
            "_________________________________________________________________\n",
            "dense_14 (Dense)             (None, 2)                 1002      \n",
            "=================================================================\n",
            "Total params: 5,435,406\n",
            "Trainable params: 5,435,406\n",
            "Non-trainable params: 0\n",
            "_________________________________________________________________\n"
          ],
          "name": "stdout"
        }
      ]
    },
    {
      "cell_type": "code",
      "metadata": {
        "id": "uZs4229wwPba"
      },
      "source": [
        "model.compile(loss='categorical_crossentropy',optimizer='Adam',metrics=['accuracy']  ) "
      ],
      "execution_count": 83,
      "outputs": []
    },
    {
      "cell_type": "code",
      "metadata": {
        "id": "_3VMb_MwwPW_",
        "colab": {
          "base_uri": "https://localhost:8080/"
        },
        "outputId": "5b01a79b-4897-4cc9-a67e-592f8c24a3d6"
      },
      "source": [
        "r = model.fit_generator(\r\n",
        "  training_set,\r\n",
        "  validation_data=test_set,\r\n",
        "  epochs=50,\r\n",
        "  steps_per_epoch=len(training_set),\r\n",
        "  validation_steps=len(test_set)\r\n",
        "  \r\n",
        ")"
      ],
      "execution_count": 84,
      "outputs": [
        {
          "output_type": "stream",
          "text": [
            "/usr/local/lib/python3.6/dist-packages/tensorflow/python/keras/engine/training.py:1844: UserWarning: `Model.fit_generator` is deprecated and will be removed in a future version. Please use `Model.fit`, which supports generators.\n",
            "  warnings.warn('`Model.fit_generator` is deprecated and '\n"
          ],
          "name": "stderr"
        },
        {
          "output_type": "stream",
          "text": [
            "Epoch 1/50\n",
            "3/3 [==============================] - 3s 747ms/step - loss: 50.5802 - accuracy: 0.5139 - val_loss: 25.5594 - val_accuracy: 0.5000\n",
            "Epoch 2/50\n",
            "3/3 [==============================] - 2s 562ms/step - loss: 87.4497 - accuracy: 0.5039 - val_loss: 1.5509 - val_accuracy: 0.5000\n",
            "Epoch 3/50\n",
            "3/3 [==============================] - 2s 904ms/step - loss: 8.7954 - accuracy: 0.5278 - val_loss: 1.9344 - val_accuracy: 0.5000\n",
            "Epoch 4/50\n",
            "3/3 [==============================] - 2s 549ms/step - loss: 9.5078 - accuracy: 0.4883 - val_loss: 1.0926 - val_accuracy: 0.5000\n",
            "Epoch 5/50\n",
            "3/3 [==============================] - 2s 538ms/step - loss: 5.4425 - accuracy: 0.4922 - val_loss: 0.7524 - val_accuracy: 0.5000\n",
            "Epoch 6/50\n",
            "3/3 [==============================] - 2s 532ms/step - loss: 2.4096 - accuracy: 0.5226 - val_loss: 0.6783 - val_accuracy: 0.5000\n",
            "Epoch 7/50\n",
            "3/3 [==============================] - 2s 542ms/step - loss: 1.0394 - accuracy: 0.5148 - val_loss: 0.6718 - val_accuracy: 0.9167\n",
            "Epoch 8/50\n",
            "3/3 [==============================] - 2s 614ms/step - loss: 0.6398 - accuracy: 0.5878 - val_loss: 0.6762 - val_accuracy: 0.5000\n",
            "Epoch 9/50\n",
            "3/3 [==============================] - 2s 891ms/step - loss: 0.5968 - accuracy: 0.6989 - val_loss: 0.6809 - val_accuracy: 0.5000\n",
            "Epoch 10/50\n",
            "3/3 [==============================] - 2s 555ms/step - loss: 0.6524 - accuracy: 0.5195 - val_loss: 0.6797 - val_accuracy: 0.5000\n",
            "Epoch 11/50\n",
            "3/3 [==============================] - 2s 539ms/step - loss: 0.6979 - accuracy: 0.4883 - val_loss: 0.6791 - val_accuracy: 0.5000\n",
            "Epoch 12/50\n",
            "3/3 [==============================] - 2s 573ms/step - loss: 0.6304 - accuracy: 0.5811 - val_loss: 0.6781 - val_accuracy: 0.5000\n",
            "Epoch 13/50\n",
            "3/3 [==============================] - 2s 892ms/step - loss: 0.6162 - accuracy: 0.5846 - val_loss: 0.6762 - val_accuracy: 0.5000\n",
            "Epoch 14/50\n",
            "3/3 [==============================] - 2s 583ms/step - loss: 0.6182 - accuracy: 0.6032 - val_loss: 0.6734 - val_accuracy: 0.6667\n",
            "Epoch 15/50\n",
            "3/3 [==============================] - 2s 867ms/step - loss: 0.6447 - accuracy: 0.6230 - val_loss: 0.6701 - val_accuracy: 0.8333\n",
            "Epoch 16/50\n",
            "3/3 [==============================] - 2s 876ms/step - loss: 0.5977 - accuracy: 0.7925 - val_loss: 0.6657 - val_accuracy: 1.0000\n",
            "Epoch 17/50\n",
            "3/3 [==============================] - 2s 541ms/step - loss: 0.5751 - accuracy: 0.8224 - val_loss: 0.6595 - val_accuracy: 1.0000\n",
            "Epoch 18/50\n",
            "3/3 [==============================] - 2s 888ms/step - loss: 0.5380 - accuracy: 0.8995 - val_loss: 0.6491 - val_accuracy: 0.9167\n",
            "Epoch 19/50\n",
            "3/3 [==============================] - 2s 541ms/step - loss: 0.5196 - accuracy: 0.9047 - val_loss: 0.6353 - val_accuracy: 0.8333\n",
            "Epoch 20/50\n",
            "3/3 [==============================] - 2s 528ms/step - loss: 0.5059 - accuracy: 0.8709 - val_loss: 0.6106 - val_accuracy: 0.8333\n",
            "Epoch 21/50\n",
            "3/3 [==============================] - 2s 891ms/step - loss: 0.4751 - accuracy: 0.8150 - val_loss: 0.5673 - val_accuracy: 0.9167\n",
            "Epoch 22/50\n",
            "3/3 [==============================] - 2s 870ms/step - loss: 0.3877 - accuracy: 0.8509 - val_loss: 0.5084 - val_accuracy: 0.9167\n",
            "Epoch 23/50\n",
            "3/3 [==============================] - 2s 560ms/step - loss: 0.3196 - accuracy: 0.9190 - val_loss: 0.4388 - val_accuracy: 1.0000\n",
            "Epoch 24/50\n",
            "3/3 [==============================] - 2s 554ms/step - loss: 0.2866 - accuracy: 0.8679 - val_loss: 0.3637 - val_accuracy: 0.9167\n",
            "Epoch 25/50\n",
            "3/3 [==============================] - 2s 527ms/step - loss: 0.2452 - accuracy: 0.8748 - val_loss: 0.3011 - val_accuracy: 0.9167\n",
            "Epoch 26/50\n",
            "3/3 [==============================] - 2s 874ms/step - loss: 0.1524 - accuracy: 0.9563 - val_loss: 0.2664 - val_accuracy: 0.9167\n",
            "Epoch 27/50\n",
            "3/3 [==============================] - 2s 525ms/step - loss: 0.3548 - accuracy: 0.8371 - val_loss: 0.2814 - val_accuracy: 0.9167\n",
            "Epoch 28/50\n",
            "3/3 [==============================] - 2s 872ms/step - loss: 0.2552 - accuracy: 0.8730 - val_loss: 0.2500 - val_accuracy: 1.0000\n",
            "Epoch 29/50\n",
            "3/3 [==============================] - 2s 867ms/step - loss: 0.1206 - accuracy: 0.9706 - val_loss: 0.2730 - val_accuracy: 1.0000\n",
            "Epoch 30/50\n",
            "3/3 [==============================] - 2s 553ms/step - loss: 0.5162 - accuracy: 0.7867 - val_loss: 0.2492 - val_accuracy: 0.9167\n",
            "Epoch 31/50\n",
            "3/3 [==============================] - 2s 572ms/step - loss: 0.3039 - accuracy: 0.8674 - val_loss: 0.2659 - val_accuracy: 0.9167\n",
            "Epoch 32/50\n",
            "3/3 [==============================] - 2s 860ms/step - loss: 0.1710 - accuracy: 0.9138 - val_loss: 0.2619 - val_accuracy: 1.0000\n",
            "Epoch 33/50\n",
            "3/3 [==============================] - 2s 525ms/step - loss: 0.1959 - accuracy: 0.9264 - val_loss: 0.2623 - val_accuracy: 1.0000\n",
            "Epoch 34/50\n",
            "3/3 [==============================] - 2s 878ms/step - loss: 0.1063 - accuracy: 0.9641 - val_loss: 0.2575 - val_accuracy: 1.0000\n",
            "Epoch 35/50\n",
            "3/3 [==============================] - 2s 503ms/step - loss: 0.2220 - accuracy: 0.8743 - val_loss: 0.2591 - val_accuracy: 0.9167\n",
            "Epoch 36/50\n",
            "3/3 [==============================] - 2s 892ms/step - loss: 0.1623 - accuracy: 0.9424 - val_loss: 0.2484 - val_accuracy: 0.9167\n",
            "Epoch 37/50\n",
            "3/3 [==============================] - 2s 862ms/step - loss: 0.1539 - accuracy: 0.9641 - val_loss: 0.2332 - val_accuracy: 0.9167\n",
            "Epoch 38/50\n",
            "3/3 [==============================] - 2s 863ms/step - loss: 0.1861 - accuracy: 0.8725 - val_loss: 0.2302 - val_accuracy: 0.9167\n",
            "Epoch 39/50\n",
            "3/3 [==============================] - 2s 872ms/step - loss: 0.2069 - accuracy: 0.8942 - val_loss: 0.2173 - val_accuracy: 1.0000\n",
            "Epoch 40/50\n",
            "3/3 [==============================] - 2s 539ms/step - loss: 0.2175 - accuracy: 0.9359 - val_loss: 0.2265 - val_accuracy: 1.0000\n",
            "Epoch 41/50\n",
            "3/3 [==============================] - 2s 513ms/step - loss: 0.1351 - accuracy: 0.9393 - val_loss: 0.2424 - val_accuracy: 0.9167\n",
            "Epoch 42/50\n",
            "3/3 [==============================] - 2s 545ms/step - loss: 0.1570 - accuracy: 0.9263 - val_loss: 0.2394 - val_accuracy: 0.9167\n",
            "Epoch 43/50\n",
            "3/3 [==============================] - 2s 883ms/step - loss: 0.2120 - accuracy: 0.8795 - val_loss: 0.2312 - val_accuracy: 1.0000\n",
            "Epoch 44/50\n",
            "3/3 [==============================] - 2s 504ms/step - loss: 0.1014 - accuracy: 0.9809 - val_loss: 0.2327 - val_accuracy: 1.0000\n",
            "Epoch 45/50\n",
            "3/3 [==============================] - 2s 876ms/step - loss: 0.3052 - accuracy: 0.8868 - val_loss: 0.2347 - val_accuracy: 1.0000\n",
            "Epoch 46/50\n",
            "3/3 [==============================] - 2s 528ms/step - loss: 0.1224 - accuracy: 0.9320 - val_loss: 0.2670 - val_accuracy: 0.9167\n",
            "Epoch 47/50\n",
            "3/3 [==============================] - 2s 566ms/step - loss: 0.1417 - accuracy: 0.9268 - val_loss: 0.3012 - val_accuracy: 0.9167\n",
            "Epoch 48/50\n",
            "3/3 [==============================] - 2s 575ms/step - loss: 0.1598 - accuracy: 0.9315 - val_loss: 0.3011 - val_accuracy: 0.9167\n",
            "Epoch 49/50\n",
            "3/3 [==============================] - 2s 548ms/step - loss: 0.1005 - accuracy: 0.9926 - val_loss: 0.2980 - val_accuracy: 0.9167\n",
            "Epoch 50/50\n",
            "3/3 [==============================] - 2s 525ms/step - loss: 0.0928 - accuracy: 0.9619 - val_loss: 0.2879 - val_accuracy: 0.9167\n"
          ],
          "name": "stdout"
        }
      ]
    },
    {
      "cell_type": "code",
      "metadata": {
        "colab": {
          "base_uri": "https://localhost:8080/",
          "height": 530
        },
        "id": "ZC7YCx-fJaFT",
        "outputId": "bff61ed4-48a6-4361-89b0-5bfad9909f27"
      },
      "source": [
        "# plot the loss\r\n",
        "plt.plot(r.history['loss'], label='train loss')\r\n",
        "plt.plot(r.history['val_loss'], label='val loss')\r\n",
        "plt.legend()\r\n",
        "plt.show()\r\n",
        "plt.savefig('LossVal_loss')\r\n",
        "\r\n",
        "# plot the accuracy\r\n",
        "plt.plot(r.history['accuracy'], label='train acc')\r\n",
        "plt.plot(r.history['val_accuracy'], label='val acc')\r\n",
        "plt.legend()\r\n",
        "plt.show()\r\n",
        "plt.savefig('AccVal_acc')"
      ],
      "execution_count": 85,
      "outputs": [
        {
          "output_type": "display_data",
          "data": {
            "image/png": "[encoded data removed]",
            "text/plain": [
              "<Figure size 432x288 with 1 Axes>"
            ]
          },
          "metadata": {
            "tags": [],
            "needs_background": "light"
          }
        },
        {
          "output_type": "display_data",
          "data": {
            "image/png": "[encoded data removed]",
            "text/plain": [
              "<Figure size 432x288 with 1 Axes>"
            ]
          },
          "metadata": {
            "tags": [],
            "needs_background": "light"
          }
        },
        {
          "output_type": "display_data",
          "data": {
            "text/plain": [
              "<Figure size 432x288 with 0 Axes>"
            ]
          },
          "metadata": {
            "tags": []
          }
        }
      ]
    },
    {
      "cell_type": "code",
      "metadata": {
        "id": "zmqYugvMJaBy"
      },
      "source": [
        "from tensorflow.keras.models import load_model\r\n",
        "\r\n",
        "model.save('model_final1.h5')"
      ],
      "execution_count": 92,
      "outputs": []
    },
    {
      "cell_type": "code",
      "metadata": {
        "colab": {
          "base_uri": "https://localhost:8080/"
        },
        "id": "z8ZbRvzNJZ_o",
        "outputId": "0c0be940-e915-4052-dced-62ffe16ec4c7"
      },
      "source": [
        "\r\n",
        "y_pred = model.predict(test_set)"
      ],
      "execution_count": 87,
      "outputs": [
        {
          "output_type": "stream",
          "text": [
            "WARNING:tensorflow:5 out of the last 7 calls to <function Model.make_predict_function.<locals>.predict_function at 0x7fc50cb17ae8> triggered tf.function retracing. Tracing is expensive and the excessive number of tracings could be due to (1) creating @tf.function repeatedly in a loop, (2) passing tensors with different shapes, (3) passing Python objects instead of tensors. For (1), please define your @tf.function outside of the loop. For (2), @tf.function has experimental_relax_shapes=True option that relaxes argument shapes that can avoid unnecessary retracing. For (3), please refer to https://www.tensorflow.org/guide/function#controlling_retracing and https://www.tensorflow.org/api_docs/python/tf/function for  more details.\n"
          ],
          "name": "stdout"
        }
      ]
    },
    {
      "cell_type": "code",
      "metadata": {
        "colab": {
          "base_uri": "https://localhost:8080/"
        },
        "id": "7nai9DB-JZ9D",
        "outputId": "b5c5fde9-7baa-450a-f4ac-32a393352ae1"
      },
      "source": [
        "y_pred"
      ],
      "execution_count": 88,
      "outputs": [
        {
          "output_type": "execute_result",
          "data": {
            "text/plain": [
              "array([[0.6739608 , 0.32603922],\n",
              "       [0.18788667, 0.81211334],\n",
              "       [0.8869946 , 0.11300535],\n",
              "       [0.30177197, 0.69822806],\n",
              "       [0.8288084 , 0.17119156],\n",
              "       [0.4223637 , 0.5776363 ],\n",
              "       [0.11515101, 0.88484895],\n",
              "       [0.6922356 , 0.30776438],\n",
              "       [0.20087178, 0.79912823],\n",
              "       [0.82470816, 0.17529184],\n",
              "       [0.15561192, 0.84438807],\n",
              "       [0.21860725, 0.7813928 ]], dtype=float32)"
            ]
          },
          "metadata": {
            "tags": []
          },
          "execution_count": 88
        }
      ]
    },
    {
      "cell_type": "code",
      "metadata": {
        "id": "3fdowR5vJZ6g"
      },
      "source": [
        "\r\n",
        "import numpy as np\r\n",
        "y_pred = np.argmax(y_pred, axis=1)"
      ],
      "execution_count": 89,
      "outputs": []
    },
    {
      "cell_type": "code",
      "metadata": {
        "colab": {
          "base_uri": "https://localhost:8080/"
        },
        "id": "hS21X9HmJZ38",
        "outputId": "4cf96d04-ffaf-4f87-cd43-d695a72710cd"
      },
      "source": [
        "y_pred"
      ],
      "execution_count": 90,
      "outputs": [
        {
          "output_type": "execute_result",
          "data": {
            "text/plain": [
              "array([0, 1, 0, 1, 0, 1, 1, 0, 1, 0, 1, 1])"
            ]
          },
          "metadata": {
            "tags": []
          },
          "execution_count": 90
        }
      ]
    },
    {
      "cell_type": "code",
      "metadata": {
        "id": "WyJj982rJwqV"
      },
      "source": [
        ""
      ],
      "execution_count": 91,
      "outputs": []
    },
    {
      "cell_type": "code",
      "metadata": {
        "id": "do12jTr7Jz3c"
      },
      "source": [
        "model=load_model('model_final1.h5')"
      ],
      "execution_count": 93,
      "outputs": []
    },
    {
      "cell_type": "code",
      "metadata": {
        "id": "1uk_LXcRJ22S"
      },
      "source": [
        "img=image.load_img('/content/drive/MyDrive/Glaucoma/test/Non Glaucoma/1 (35).tif',target_size=(224,224))"
      ],
      "execution_count": 94,
      "outputs": []
    },
    {
      "cell_type": "code",
      "metadata": {
        "colab": {
          "base_uri": "https://localhost:8080/"
        },
        "id": "4gCPlT8PJ7uZ",
        "outputId": "493bfde9-c9c5-4162-a60d-f53f65513c95"
      },
      "source": [
        "x=image.img_to_array(img)\n",
        "x"
      ],
      "execution_count": 95,
      "outputs": [
        {
          "output_type": "execute_result",
          "data": {
            "text/plain": [
              "array([[[ 0.,  0.,  0.],\n",
              "        [ 0.,  0.,  0.],\n",
              "        [ 0.,  0.,  0.],\n",
              "        ...,\n",
              "        [ 0.,  0.,  0.],\n",
              "        [ 0.,  0.,  0.],\n",
              "        [ 0.,  0.,  0.]],\n",
              "\n",
              "       [[ 1.,  1.,  1.],\n",
              "        [ 1.,  1.,  1.],\n",
              "        [ 1.,  1.,  1.],\n",
              "        ...,\n",
              "        [ 1.,  1.,  1.],\n",
              "        [ 1.,  1.,  1.],\n",
              "        [ 1.,  1.,  1.]],\n",
              "\n",
              "       [[ 1.,  1.,  1.],\n",
              "        [ 0.,  0.,  0.],\n",
              "        [ 0.,  0.,  0.],\n",
              "        ...,\n",
              "        [ 0.,  0.,  0.],\n",
              "        [ 1.,  1.,  1.],\n",
              "        [ 1.,  1.,  1.]],\n",
              "\n",
              "       ...,\n",
              "\n",
              "       [[ 8.,  8.,  8.],\n",
              "        [ 7.,  7.,  7.],\n",
              "        [ 6.,  6.,  6.],\n",
              "        ...,\n",
              "        [ 7.,  7.,  7.],\n",
              "        [ 6.,  6.,  6.],\n",
              "        [ 8.,  8.,  8.]],\n",
              "\n",
              "       [[ 7.,  7.,  7.],\n",
              "        [ 8.,  8.,  8.],\n",
              "        [ 7.,  7.,  7.],\n",
              "        ...,\n",
              "        [ 6.,  6.,  8.],\n",
              "        [ 6.,  6.,  8.],\n",
              "        [ 6.,  6.,  8.]],\n",
              "\n",
              "       [[10.,  8.,  9.],\n",
              "        [ 9.,  7.,  8.],\n",
              "        [ 8.,  6.,  7.],\n",
              "        ...,\n",
              "        [ 7.,  7.,  7.],\n",
              "        [ 7.,  7.,  9.],\n",
              "        [ 6.,  6.,  8.]]], dtype=float32)"
            ]
          },
          "metadata": {
            "tags": []
          },
          "execution_count": 95
        }
      ]
    },
    {
      "cell_type": "code",
      "metadata": {
        "colab": {
          "base_uri": "https://localhost:8080/"
        },
        "id": "CGU1jVPVKNlG",
        "outputId": "69b2d982-5e60-47d0-bb8f-02bdcb25e538"
      },
      "source": [
        "x.shape"
      ],
      "execution_count": 96,
      "outputs": [
        {
          "output_type": "execute_result",
          "data": {
            "text/plain": [
              "(224, 224, 3)"
            ]
          },
          "metadata": {
            "tags": []
          },
          "execution_count": 96
        }
      ]
    },
    {
      "cell_type": "code",
      "metadata": {
        "id": "7XcQlC-NKP-2"
      },
      "source": [
        "\r\n",
        "x=x/255"
      ],
      "execution_count": 97,
      "outputs": []
    },
    {
      "cell_type": "code",
      "metadata": {
        "colab": {
          "base_uri": "https://localhost:8080/"
        },
        "id": "goFP80B8KRT2",
        "outputId": "9fad5bd9-7961-4095-87c2-844f0fdf9b72"
      },
      "source": [
        "from keras.applications.resnet50 import preprocess_input\r\n",
        "x=np.expand_dims(x,axis=0)\r\n",
        "\r\n",
        "img_data=preprocess_input(x)\r\n",
        "img_data.shape"
      ],
      "execution_count": 98,
      "outputs": [
        {
          "output_type": "execute_result",
          "data": {
            "text/plain": [
              "(1, 224, 224, 3)"
            ]
          },
          "metadata": {
            "tags": []
          },
          "execution_count": 98
        }
      ]
    },
    {
      "cell_type": "code",
      "metadata": {
        "colab": {
          "base_uri": "https://localhost:8080/"
        },
        "id": "-FFWrTfOKTE5",
        "outputId": "3e0e30cf-1159-4b69-a3bd-8f433c467150"
      },
      "source": [
        "\r\n",
        "model.predict(img_data)"
      ],
      "execution_count": 99,
      "outputs": [
        {
          "output_type": "stream",
          "text": [
            "WARNING:tensorflow:6 out of the last 8 calls to <function Model.make_predict_function.<locals>.predict_function at 0x7fc50efbdf28> triggered tf.function retracing. Tracing is expensive and the excessive number of tracings could be due to (1) creating @tf.function repeatedly in a loop, (2) passing tensors with different shapes, (3) passing Python objects instead of tensors. For (1), please define your @tf.function outside of the loop. For (2), @tf.function has experimental_relax_shapes=True option that relaxes argument shapes that can avoid unnecessary retracing. For (3), please refer to https://www.tensorflow.org/guide/function#controlling_retracing and https://www.tensorflow.org/api_docs/python/tf/function for  more details.\n"
          ],
          "name": "stdout"
        },
        {
          "output_type": "execute_result",
          "data": {
            "text/plain": [
              "array([[1., 0.]], dtype=float32)"
            ]
          },
          "metadata": {
            "tags": []
          },
          "execution_count": 99
        }
      ]
    },
    {
      "cell_type": "code",
      "metadata": {
        "id": "psgZwNfmKlk_"
      },
      "source": [
        "\r\n",
        "a=np.argmax(model.predict(img_data), axis=1)"
      ],
      "execution_count": 100,
      "outputs": []
    },
    {
      "cell_type": "code",
      "metadata": {
        "colab": {
          "base_uri": "https://localhost:8080/"
        },
        "id": "Zm2VmFHfKnti",
        "outputId": "e523fc97-fde6-4a2c-9e1d-a569751364f3"
      },
      "source": [
        "if(a==1):\r\n",
        "    print(\"Non-Glaucoma\")\r\n",
        "else:\r\n",
        "    print(\"Glaucoma\")\r\n"
      ],
      "execution_count": 101,
      "outputs": [
        {
          "output_type": "stream",
          "text": [
            "Glaucoma\n"
          ],
          "name": "stdout"
        }
      ]
    },
    {
      "cell_type": "code",
      "metadata": {
        "id": "PzSUKn4FKqcm"
      },
      "source": [
        ""
      ],
      "execution_count": null,
      "outputs": []
    }
  ]
}